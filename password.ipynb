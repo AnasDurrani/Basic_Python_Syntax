{
  "nbformat": 4,
  "nbformat_minor": 0,
  "metadata": {
    "colab": {
      "provenance": [],
      "authorship_tag": "ABX9TyP7ijVedqAiltvcWHJQ3jQE",
      "include_colab_link": true
    },
    "kernelspec": {
      "name": "python3",
      "display_name": "Python 3"
    },
    "language_info": {
      "name": "python"
    }
  },
  "cells": [
    {
      "cell_type": "markdown",
      "metadata": {
        "id": "view-in-github",
        "colab_type": "text"
      },
      "source": [
        "<a href=\"https://colab.research.google.com/github/AnasDurrani/Basic_Python_Syntax/blob/main/password.ipynb\" target=\"_parent\"><img src=\"https://colab.research.google.com/assets/colab-badge.svg\" alt=\"Open In Colab\"/></a>"
      ]
    },
    {
      "cell_type": "code",
      "execution_count": 18,
      "metadata": {
        "colab": {
          "base_uri": "https://localhost:8080/"
        },
        "id": "z9HjOVfFNNRS",
        "outputId": "150331c8-b3dd-4d1d-9479-6fff562d3f00"
      },
      "outputs": [
        {
          "output_type": "stream",
          "name": "stdout",
          "text": [
            "hi alice\n",
            "hey bob\n"
          ]
        }
      ],
      "source": [
        "Name = \"alice\"\n",
        "name = \"bob\"\n",
        "\n",
        "if Name == \"alice\":\n",
        "  print(\"hi alice\")\n",
        "  if name == \"bob\":\n",
        "    print(\"hey bob\")\n",
        "\n",
        "else:\n",
        "  print(\"hey stranger\")"
      ]
    },
    {
      "cell_type": "code",
      "source": [
        "username = \"admin\"\n",
        "\n",
        "password = \"1234\"\n",
        "\n",
        "if username == \"admin\":\n",
        "\n",
        "  if password == \"1234\":\n",
        "\n",
        "   print(\"Access granted\")\n",
        "\n",
        "  else:\n",
        "\n",
        "   print(\"Incorrect password\")\n",
        "\n",
        "else:\n",
        "\n",
        "  print(\"User not found\")\n"
      ],
      "metadata": {
        "colab": {
          "base_uri": "https://localhost:8080/"
        },
        "id": "V-jz5N_qOYqC",
        "outputId": "fe03934f-8701-433d-9a83-2b9d522bd895"
      },
      "execution_count": 10,
      "outputs": [
        {
          "output_type": "stream",
          "name": "stdout",
          "text": [
            "Access granted\n"
          ]
        }
      ]
    },
    {
      "cell_type": "code",
      "source": [],
      "metadata": {
        "id": "tKupWi0VPRgp"
      },
      "execution_count": null,
      "outputs": []
    }
  ]
}