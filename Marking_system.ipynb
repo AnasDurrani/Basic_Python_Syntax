{
  "nbformat": 4,
  "nbformat_minor": 0,
  "metadata": {
    "colab": {
      "provenance": [],
      "authorship_tag": "ABX9TyPz3aw9dy+JZdih6weWfJ/1",
      "include_colab_link": true
    },
    "kernelspec": {
      "name": "python3",
      "display_name": "Python 3"
    },
    "language_info": {
      "name": "python"
    }
  },
  "cells": [
    {
      "cell_type": "markdown",
      "metadata": {
        "id": "view-in-github",
        "colab_type": "text"
      },
      "source": [
        "<a href=\"https://colab.research.google.com/github/AnasDurrani/Basic_Python_Syntax/blob/main/Marking_system.ipynb\" target=\"_parent\"><img src=\"https://colab.research.google.com/assets/colab-badge.svg\" alt=\"Open In Colab\"/></a>"
      ]
    },
    {
      "cell_type": "code",
      "execution_count": 5,
      "metadata": {
        "colab": {
          "base_uri": "https://localhost:8080/"
        },
        "id": "KoJwMu_o-5mG",
        "outputId": "39346621-58a6-4f92-e558-83c0434ed4cc"
      },
      "outputs": [
        {
          "output_type": "stream",
          "name": "stdout",
          "text": [
            "D\n"
          ]
        }
      ],
      "source": [
        "Marks = 52\n",
        "if Marks >= 90:\n",
        "    print(\"A+\")\n",
        "elif Marks >= 80:\n",
        "    print(\"A\")\n",
        "elif Marks >= 70:\n",
        "    print(\"B\")\n",
        "elif Marks >= 60:\n",
        "    print(\"C\")\n",
        "elif Marks >= 50:\n",
        "    print(\"D\")\n"
      ]
    },
    {
      "cell_type": "code",
      "source": [],
      "metadata": {
        "id": "7CDm6Ps8iv3n"
      },
      "execution_count": null,
      "outputs": []
    }
  ]
}